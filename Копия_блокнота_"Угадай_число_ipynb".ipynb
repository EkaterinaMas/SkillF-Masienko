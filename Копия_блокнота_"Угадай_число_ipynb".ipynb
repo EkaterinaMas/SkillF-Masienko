{
  "nbformat": 4,
  "nbformat_minor": 0,
  "metadata": {
    "colab": {
      "name": "Копия блокнота \"Угадай число.ipynb\"",
      "provenance": [],
      "collapsed_sections": [],
      "authorship_tag": "ABX9TyPJFEg1gEKftxZ7/sYHBhwd",
      "include_colab_link": true
    },
    "kernelspec": {
      "name": "python3",
      "display_name": "Python 3"
    }
  },
  "cells": [
    {
      "cell_type": "markdown",
      "metadata": {
        "id": "view-in-github",
        "colab_type": "text"
      },
      "source": [
        "<a href=\"https://colab.research.google.com/github/EkaterinaMas/SkillF-Masienko/blob/master/%D0%9A%D0%BE%D0%BF%D0%B8%D1%8F_%D0%B1%D0%BB%D0%BE%D0%BA%D0%BD%D0%BE%D1%82%D0%B0_%22%D0%A3%D0%B3%D0%B0%D0%B4%D0%B0%D0%B9_%D1%87%D0%B8%D1%81%D0%BB%D0%BE_ipynb%22.ipynb\" target=\"_parent\"><img src=\"https://colab.research.google.com/assets/colab-badge.svg\" alt=\"Open In Colab\"/></a>"
      ]
    },
    {
      "cell_type": "code",
      "metadata": {
        "id": "n1gC-r7pw_gr",
        "colab_type": "code",
        "colab": {
          "base_uri": "https://localhost:8080/",
          "height": 68
        },
        "outputId": "cb4db794-712f-4e49-ddcd-15b4e21702ae"
      },
      "source": [
        "import numpy as np\n",
        "number = np.random.randint(1,101) # Загадали число\n",
        "print(\"Компьютер загадал число от 1 до 100.\")\n",
        "print (\"\")\n",
        "\n",
        "\n",
        "def game_core_v2(number): # Функция принимает загаданное число и возвращает число попыток\n",
        "  predict = 50            # Задаем первую попытку угадывания (делим интервал угадывания наполовину, чтобы быстрей добраться до искомого числа.)\n",
        "  count = 1               # Счетчик попыток\n",
        "  low = 1\n",
        "  high = 100\n",
        "  \n",
        "  while predict != number:   # Цикл отгадывания\n",
        "    count += 1               # Плюсуем попытку\n",
        "    if predict > number:\n",
        "      high = predict         # Задаем загаданное число верхней границей интервала\n",
        "      predict = predict - ((high-low)//2)  # Продолжаем делить полученный интервал наполовину\n",
        "    elif predict < number:\n",
        "      low = predict    # Задаем загаданное число нижней границей интервала\n",
        "      predict = predict + ((high-low)//2)\n",
        "  return count\n",
        "\n",
        "print (f'Вы угадали загаданное число \"{number}\" за {count} раз(а).')\n"
      ],
      "execution_count": null,
      "outputs": [
        {
          "output_type": "stream",
          "text": [
            "Компьютер загадал число от 1 до 100.\n",
            "\n",
            "Вы угадали загаданное число \"9\" за 6 раз(а).\n"
          ],
          "name": "stdout"
        }
      ]
    }
  ]
}